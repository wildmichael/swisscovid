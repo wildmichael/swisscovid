{
 "cells": [
  {
   "cell_type": "code",
   "execution_count": 6,
   "metadata": {},
   "outputs": [],
   "source": [
    "import pandas as pd\n",
    "import altair as alt\n",
    "import matplotlib.pyplot as plt\n",
    "import mplcyberpunk\n",
    "plt.style.use(\"cyberpunk\")\n",
    "%matplotlib widget"
   ]
  },
  {
   "cell_type": "code",
   "execution_count": 7,
   "metadata": {},
   "outputs": [],
   "source": [
    "data = pd.read_csv('https://raw.githubusercontent.com/openZH/covid_19/master/COVID19_Fallzahlen_CH_total_v2.csv', parse_dates=['date'])\n",
    "data.drop((data['abbreviation_canton_and_fl'] == 'FL').index)\n",
    "data = data.drop(columns=['time', 'source']).set_index(['date'])"
   ]
  },
  {
   "cell_type": "code",
   "execution_count": 8,
   "metadata": {},
   "outputs": [],
   "source": [
    "ncumul_conf = data.pivot(columns='abbreviation_canton_and_fl', values='ncumul_conf').ffill().fillna(0)\n",
    "current_hosp = data.pivot(columns='abbreviation_canton_and_fl', values='current_hosp').ffill().fillna(0)"
   ]
  },
  {
   "cell_type": "code",
   "execution_count": 9,
   "metadata": {},
   "outputs": [],
   "source": [
    "df = pd.concat([\n",
    "    current_hosp.sum(axis=1).iloc[:-1].rolling(7).sum().rename('Aktuell hospitalisiert'),\n",
    "    ncumul_conf.sum(axis=1).iloc[:-1].diff().rolling(7).sum().rename('Neu bestätigt'),\n",
    "    ncumul_conf.sum(axis=1).iloc[:-1].rolling(7).sum().rename('Total bestätigt'),\n",
    "], axis=1)"
   ]
  },
  {
   "cell_type": "code",
   "execution_count": 10,
   "metadata": {},
   "outputs": [
    {
     "data": {
      "application/vnd.jupyter.widget-view+json": {
       "model_id": "6594fd1709094ea988d3071564b6cf0e",
       "version_major": 2,
       "version_minor": 0
      },
      "text/plain": [
       "Canvas(toolbar=Toolbar(toolitems=[('Home', 'Reset original view', 'home', 'home'), ('Back', 'Back to previous …"
      ]
     },
     "metadata": {},
     "output_type": "display_data"
    }
   ],
   "source": [
    "plt.close('all')\n",
    "ax = df.plot.line(xlabel='', secondary_y=['Total bestätigt'], title='Schweiz (7-Tage Mittel)')\n",
    "\n",
    "left_lines = ax.get_lines()\n",
    "right_lines = ax.right_ax.get_lines()\n",
    "for l in right_lines:\n",
    "    l.set_label(l.get_label() + ' (rechts)')\n",
    "lines = left_lines + right_lines\n",
    "ax.legend(lines, [l.get_label() for l in lines], loc='upper center', ncol=3)\n",
    "\n",
    "ax.set_ylim((0, 22e3))\n",
    "ax.right_ax.set_ylim((0, 30*22e3))\n",
    "\n",
    "ax.right_ax.grid(False)\n",
    "\n",
    "mplcyberpunk.add_glow_effects(ax)\n",
    "mplcyberpunk.add_glow_effects(ax.right_ax)\n",
    "\n",
    "ax.grid(axis='both')"
   ]
  },
  {
   "cell_type": "code",
   "execution_count": null,
   "metadata": {},
   "outputs": [],
   "source": []
  }
 ],
 "metadata": {
  "kernelspec": {
   "display_name": "Python 3",
   "language": "python",
   "name": "python3"
  },
  "language_info": {
   "codemirror_mode": {
    "name": "ipython",
    "version": 3
   },
   "file_extension": ".py",
   "mimetype": "text/x-python",
   "name": "python",
   "nbconvert_exporter": "python",
   "pygments_lexer": "ipython3",
   "version": "3.8.3"
  }
 },
 "nbformat": 4,
 "nbformat_minor": 4
}
